{
 "cells": [
  {
   "cell_type": "markdown",
   "metadata": {},
   "source": [
    "# Instructions:"
   ]
  },
  {
   "cell_type": "code",
   "execution_count": 7,
   "metadata": {},
   "outputs": [
    {
     "ename": "SyntaxError",
     "evalue": "invalid syntax (<ipython-input-7-3dc78c6d0744>, line 2)",
     "output_type": "error",
     "traceback": [
      "\u001b[1;36m  File \u001b[1;32m\"<ipython-input-7-3dc78c6d0744>\"\u001b[1;36m, line \u001b[1;32m2\u001b[0m\n\u001b[1;33m    In this exercise, we will be using data from `rolling stone's top 500 albums`. We have this data contained in the `data.csv` file. We will be building out the following functions to answer questions and interact with this data.\u001b[0m\n\u001b[1;37m          ^\u001b[0m\n\u001b[1;31mSyntaxError\u001b[0m\u001b[1;31m:\u001b[0m invalid syntax\n"
     ]
    }
   ],
   "source": [
    "## Getting Started\n",
    "In this exercise, we will be using data from `rolling stone's top 500 albums`. We have this data contained in the `data.csv` file. We will be building out the following functions to answer questions and interact with this data.\n",
    "\n",
    "> **remember:** reading from a csv file in python looks like the following:\n",
    "\n",
    "```python \n",
    "import csv\n",
    "\n",
    "    with open(file_name) as f:\n",
    "        # we are using DictReader because we want our information to be in dictionary format.\n",
    "        reader = csv.DictReader(f)\n",
    "        # some more code\n",
    "```\n",
    "\n",
    "Once we have our `reader` reading our file as dictionaries, we want our data to be a list of dictionaries. So, we need to loop through our `reader` and create a list. *hint: list comprehension / for loops are your friend\"\n",
    "\n",
    "```python\n",
    "# our data will look something like this once we have read it and turned it into a list of `OrderedDict`s\n",
    "# don't worry, the ordered dicts look different but we can interact with them the same way we do normal dicts\n",
    "[OrderedDict([('number', '1'), ('year', '1967'), ('album', \"Sgt. Pepper's Lonely Hearts Club Band\"), ('artist', 'The Beatles'), ('genre', 'Rock'), ('subgenre', 'Rock & Roll, Psychedelic Rock')]), OrderedDict([('number', '2'), ('year', '1966'), ('album', 'Pet Sounds'), ('artist', 'The Beach Boys'), ('genre', 'Rock'), ('subgenre', 'Pop Rock, Psychedelic Rock')]), OrderedDict([('number', '3'), ('year', '1966'), ('album', 'Revolver'), ('artist', 'The Beatles'), ('genre', 'Rock'), ('subgenre', 'Psychedelic Rock, Pop Rock')])]\n",
    "```\n",
    "\n",
    "After we have our data formated the way we want it, we can now begin working on defining our functions."
   ]
  },
  {
   "cell_type": "code",
   "execution_count": 90,
   "metadata": {},
   "outputs": [],
   "source": [
    "import csv\n",
    "album_info = []\n",
    "with open(\"data.csv\") as f:\n",
    "        reader = csv.DictReader(f)\n",
    "        for row in reader:\n",
    "            album_info.append(row)"
   ]
  },
  {
   "cell_type": "markdown",
   "metadata": {},
   "source": [
    "\n",
    "### Functions to build-out:\n",
    "\n",
    "Each of the following functions can be defined in the `functions.py` file. \n",
    "\n",
    "* **Searching functions**\n",
    "  * Find by name - Takes in a string that represents the name of an album. Should return a dictionary with the correct album, or return `None`.\n",
    "  * Find by rank - Takes in a number that represents the rank in the list of top albums and returns the album with that rank. If there is no album with that rank, it returns `None`.\n",
    "  * Find by year - Takes in a number for the year in which an album was released and returns a list of albums that were released in that year. If there are no albums released in the given year, it returns an empty list.\n",
    "  * Find by years - Takes in a start year and end year. Returns a list of all albums that were released on or between the start and end years. If no albums are found for those years, then an empty list is returned. \n",
    "  * Find by ranks - Takes in a start rank and end rank. Returns a list of albums that are ranked between the start and end ranks. If no albums are found for those ranks, then an empty list is returned.\n",
    "* **All functions**\n",
    "  * All titles - Returns a list of titles for each album.\n",
    "  * All artists - Returns a list of artist names for each album.\n",
    "* **Questions to answer / functions**\n",
    "  * Artists with the most albums - Returns the artist with the highest amount of albums on the list of top albums \n",
    "  * Most popular word - Returns the word used most in amongst all album titles\n",
    "  * Histogram of albums by decade - Returns a histogram with each decade pointing to the number of albums released during that decade.\n",
    "  * Histogram by genre - Returns a histogram with each genre pointing to the number of albums that are categorized as being in that genre."
   ]
  },
  {
   "cell_type": "code",
   "execution_count": 94,
   "metadata": {},
   "outputs": [
    {
     "name": "stdout",
     "output_type": "stream",
     "text": [
      "OrderedDict([(\"Sgt. Pepper's Lonely Hearts Club Band\", None), ('Pet Sounds', None), ('Revolver', None), ('Highway 61 Revisited', None), ('Rubber Soul', None), (\"What's Going On\", None), ('Exile on Main St.', None), ('London Calling', None), ('Blonde on Blonde', None), ('The Beatles (\"The White Album\")', None), ('The Sun Sessions', None), ('Kind of Blue', None), ('The Velvet Underground & Nico', None), ('Abbey Road', None), ('Are You Experienced', None), ('Blood on the Tracks', None), ('Nevermind', None), ('Born to Run', None), ('Astral Weeks', None), ('Thriller', None), ('The Great Twenty Eight', None), ('The Complete Recordings', None), ('John Lennon/Plastic Ono Band', None), ('Innervisions', None), ('Live at the Apollo, 1962', None), ('Rumours', None), ('The Joshua Tree', None), (\"Who's Next\", None), ('Led Zeppelin', None), ('Blue', None), ('Bringing It All Back Home', None), ('Let It Bleed', None), ('Ramones', None), ('Music From Big Pink', None), ('The Rise and Fall of Ziggy Stardust and the Spiders From Mars', None), ('Tapestry', None), ('Hotel California', None), ('The Anthology', None), ('Please Please Me', None), ('Forever Changes', None), (\"Never Mind the Bollocks Here's the Sex Pistols\", None), ('The Doors', None), ('The Dark Side of the Moon', None), ('Horses', None), ('The Brown Album', None), ('The Best of Bob Marley and The Wailers', None), ('A Love Supreme', None), ('It Takes a Nation of Millions to Hold Us Back', None), ('At Fillmore East', None), (\"Here's Little Richard\", None), ('Bridge Over Troubled Water', None), ('Greatest Hits', None), ('Meet The Beatles!', None), ('The Birth of Soul', None), ('Electric Ladyland', None), ('Elvis Presley', None), ('Songs in the Key of Life', None), ('Beggars Banquet', None), ('Chronicle: The 20 Greatest Hits', None), ('Appetite for Destruction', None), ('Achtung Baby', None), ('Sticky Fingers', None), ('Back to Mono', None), ('Moondance', None), ('Kid A', None), ('Off the Wall', None), ('[Led Zeppelin IV]', None), ('The Stranger', None), ('Graceland', None), ('Superfly', None), ('Physical Graffiti', None), ('After the Gold Rush', None), ('Star Time', None), ('Purple Rain', None), ('Back in Black', None), ('Otis Blue: Otis Redding Sings Soul', None), ('Led Zeppelin II', None), ('Imagine', None), ('The Clash', None), ('Harvest', None), ('Axis: Bold as Love', None), ('I Never Loved a Man the Way I Love You', None), ('Lady Soul', None), ('Born in the U.S.A.', None), ('The Wall', None), ('At Folsom Prison', None), ('Dusty in Memphis', None), ('Talking Book', None), ('Goodbye Yellow Brick Road', None), ('20 Golden Greats', None), (\"Sign 'O' the Times\", None), ('40 Greatest Hits', None), ('Bitches Brew', None), ('Tommy', None), (\"The Freewheelin' Bob Dylan\", None), (\"This Year's Model\", None), (\"There's a Riot Goin' On\", None), ('Odessey and Oracle', None), ('In the Wee Small Hours', None), ('Fresh Cream', None), ('Giant Steps', None), ('Sweet Baby James', None), ('Rocket to Russia', None), ('Portrait of a Legend 1951-1964', None), ('Hunky Dory', None), ('Aftermath', None), ('Loaded', None), ('The Bends', None), ('If You Can Believe Your Eyes and Ears', None), ('Court and Spark', None), ('Disraeli Gears', None), ('The Who Sell Out', None), ('Out of Our Heads', None), ('Layla and Other Assorted Love Songs', None), ('Late Registration', None), ('At Last!', None), ('Sweetheart of the Rodeo', None), ('Stand!', None), ('The Harder They Come', None), ('Raising Hell', None), ('Moby Grape', None), ('Pearl', None), ('Catch a Fire', None), ('Younger Than Yesterday', None), ('Raw Power', None), ('Remain in Light', None), ('Marquee Moon', None), ('Paranoid', None), ('Saturday Night Fever: The Original Movie Soundtrack Deluxe Edition', None), ('The Wild, the Innocent & the E Street Shuffle', None), ('Ready to Die', None), ('Slanted and Enchanted', None), ('Tim', None), ('The Chronic', None), ('Rejuvenation', None), ('Parallel Lines', None), ('Live at the Regal', None), ('A Christmas Gift for You From Phil Spector', None), ('Gris-Gris', None), ('Straight Outta Compton', None), ('Aja', None), ('Surrealistic Pillow', None), ('Deja vu', None), ('Houses of the Holy', None), ('Santana', None), ('Darkness on the Edge of Town', None), ('Funeral', None), (\"The B 52's\", None), ('The Low End Theory', None), (\"Moanin' in the Moonlight\", None), ('Pretenders', None), (\"Paul's Boutique\", None), ('Closer', None), ('Captain Fantastic and the Brown Dirt Cowboy', None), ('Alive!', None), ('Electric Warrior', None), ('The Dock of the Bay', None), ('OK Computer', None), ('1999', None), (\"Let's Get It On\", None), ('Imperial Bedroom', None), ('Master of Puppets', None), ('My Aim Is True', None), ('Exodus', None), ('Live at Leeds', None), ('The Notorious Byrd Brothers', None), ('Every Picture Tells a Story', None), ('Something/Anything?', None), ('Desire', None), ('Close to You', None), ('Rocks', None), ('One Nation Under a Groove', None), ('The Anthology: 1961-1977', None), ('The Definitive Collection', None), ('The Rolling Stones, Now!', None), ('Natty Dread', None), ('Fleetwood Mac', None), ('Red Headed Stranger', None), ('The Immaculate Collection', None), ('The Stooges', None), ('Fresh', None), ('So', None), ('Buffalo Springfield Again', None), ('Happy Trails', None), ('From Elvis in Memphis', None), ('Fun House', None), ('The Gilded Palace of Sin', None), ('Dookie', None), ('Transformer', None), ('The Beano Album', None), ('Murmur', None), ('Is This It', None), ('Highway to Hell', None), ('The Downward Spiral', None), ('Parsley, Sage, Rosemary and Thyme', None), ('Bad', None), ('Modern Times', None), ('Wheels of Fire', None), ('Dirty Mind', None), ('Abraxas', None), ('Tea for the Tillerman', None), ('Ten', None), ('Everybody Knows This Is Nowhere', None), ('Wish You Were Here', None), ('Crooked Rain Crooked Rain', None), ('Tattoo You', None), ('New York Dolls', None), ('Bo Diddley / Go Bo Diddley', None), ('Two Steps From the Blues', None), ('The Queen Is Dead', None), ('Licensed to Ill', None), ('Look-Ka Py Py', None), ('Loveless', None), ('New Orleans Piano', None), ('War', None), ('The Neil Diamond Collection', None), ('American Idiot', None), ('Nebraska', None), ('Doolittle', None), ('Paid in Full', None), ('Toys in the Attic', None), ('Nick of Time', None), ('A Night at the Opera', None), ('Mr. Tambourine Man', None), ('Bookends', None), ('The Ultimate Collection', None), ('Mr. Excitement!', None), ('My Generation', None), (\"Howlin' Wolf\", None), ('Like a Prayer', None), (\"Can't Buy a Thrill\", None), ('Let It Be', None), ('Run D.M.C.', None), ('Black Sabbath', None), ('The Marshall Mathers LP', None), ('Freak Out!', None), ('Live/Dead', None), ('The Shape of Jazz to Come', None), ('Automatic for the People', None), ('Reasonable Doubt', None), ('Low', None), ('The Blueprint', None), ('The River', None), ('Complete & Unbelievable: The Otis Redding Dictionary of Soul', None), ('Metallica (\"The Black Album\")', None), ('Whitney Houston', None), ('The Kinks Are The Village Green Preservation Society', None), ('The Velvet Rope', None), ('Stardust', None), ('American Beauty', None), ('Crosby, Stills & Nash', None), ('Tracy Chapman', None), (\"Workingman's Dead\", None), ('The Genius of Ray Charles', None), ('Child Is Father to the Man', None), ('Quadrophenia', None), ('Paul Simon', None), ('Psychocandy', None), ('Some Girls', None), ('The Beach Boys Today!', None), ('Dig Me Out', None), ('Going to a Go-Go', None), ('Nightbirds', None), ('The Slim Shady LP', None), ('Mothership Connection', None), ('Rhythm Nation 1814', None), ('Aladdin Sane', None), (\"All That You Can't Leave Behind\", None), ('My Life', None), ('Folk Singer', None), (\"Can't Get Enough\", None), ('The Cars', None), ('Music of My Mind', None), (\"I'm Still in Love With You\", None), ('Los Angeles', None), ('Anthem of the Sun', None), ('Call Me', None), ('Talking Heads: 77', None), ('The Basement Tapes', None), ('White Light/White Heat', None), ('Kick Out the Jams', None), ('Songs of Love and Hate', None), ('Meat Is Murder', None), (\"We're Only in It for the Money\", None), ('The College Dropout', None), ('Weezer (Blue Album)', None), ('Master of Reality', None), ('Coat of Many Colors', None), ('Fear of a Black Planet', None), ('John Wesley Harding', None), ('Grace', None), ('Car Wheels on a Gravel Road', None), ('Odelay', None), (\"A Hard Day's Night\", None), ('Willy and the Poor Boys', None), ('Blood Sugar Sex Magik', None), ('The Sun Records Collection', None), (\"Nothing's Shocking\", None), ('MTV Unplugged in New York', None), ('The Miseducation of Lauryn Hill', None), ('Damn the Torpedoes', None), ('The Velvet Underground', None), ('Surfer Rosa', None), ('Back Stabbers', None), (\"Burnin'\", None), ('Amnesiac', None), ('Pink Moon', None), ('Sail Away', None), ('Ghost in the Machine', None), ('Station to Station', None), ('Slowhand', None), ('Disintegration', None), ('Exile in Guyville', None), ('Daydream Nation', None), ('In the Jungle Groove', None), (\"Tonight's the Night\", None), ('Help!', None), ('Shoot Out the Lights', None), ('Wild Gift', None), ('Squeezing Out Sparks', None), ('Superunknown', None), ('In Rainbows', None), ('Aqualung', None), ('Cheap Thrills', None), ('The Heart of Saturday Night', None), ('Damaged', None), ('Play', None), ('Violator', None), ('Bat Out of Hell', None), ('Berlin', None), ('Stop Making Sense', None), ('The Piper at the Gates of Dawn', None), ('Muddy Waters at Newport 1960', None), ('The Black Album', None), ('Roger the Engineer', None), ('Rust Never Sleeps', None), ('Brothers in Arms', None), ('My Beautiful Dark Twisted Fantasy', None), ('52nd Street', None), ('12 Songs', None), ('Between the Buttons', None), ('Sketches of Spain', None), ('Singles Going Steady', None), ('Stankonia', None), ('Siamese Dream', None), ('L.A. Woman', None), ('Rage Against the Machine', None), ('American Recordings', None), ('Ray of Light', None), ('Eagles', None), ('Louder Than Bombs', None), ('Mott', None), (\"Whatever People Say I Am, That's What I'm Not\", None), ('Reggatta de Blanc', None), ('Volunteers', None), ('Siren', None), ('Late for the Sky', None), ('Post', None), (\"(What's the Story) Morning Glory?\", None), ('CrazySexyCool', None), ('Funky Kingston', None), ('The Smile Sessions', None), ('The Modern Lovers', None), ('More Songs About Buildings and Food', None), ('A Quick One', None), ('\"Love and Theft\"', None), ('Pretzel Logic', None), ('Enter the Wu Tang: 36 Chambers', None), ('The Indestructible Beat of Soweto', None), ('The End of the Innocence', None), ('Elephant', None), ('The Pretender', None), ('Kala', None), ('Good Old Boys', None), ('Sound of Silver', None), ('For Your Pleasure', None), ('Blue Lines', None), ('Eliminator', None), ('Rain Dogs', None), ('Californication', None), ('Illmatic', None), (\"(pronounced 'leh-'nerd 'skin-'nerd)\", None), (\"Dr. John's Gumbo\", None), ('Radio City', None), ('Rid of Me', None), ('Sandinista!', None), (\"I Do Not Want What I Haven't Got\", None), ('Strange Days', None), ('Time Out of Mind', None), ('461 Ocean Boulevard', None), ('Pink Flag', None), ('Double Nickels on the Dime', None), ('Beauty and the Beat', None), ('Van Halen', None), ('Mule Variations', None), ('Boy', None), ('Band on the Run', None), ('Dummy', None), ('The \"Chirping\" Crickets', None), ('Presenting the Fabulous Ronettes Featuring Veronica', None), ('Anthology', None), ('The Rising', None), ('Grievous Angel', None), ('Sleepless', None), (\"Outlandos d'Amour\", None), ('Another Green World', None), ('Vampire Weekend', None), ('Stories From the City, Stories From the Sea', None), ('Here Come the Warm Jets', None), ('All Things Must Pass', None), ('#1 Record', None), ('In Utero', None), ('Sea Change', None), ('Tha Carter III', None), (\"Boys Don't Cry\", None), ('Live at the Harlem Square Club, 1963', None), ('Rum Sodomy & the Lash', None), ('Suicide', None), ('Q: Are We Not Men? A: We Are Devo!', None), ('In Color', None), ('The World Is a Ghetto', None), ('Fly Like an Eagle', None), ('Back in the USA', None), ('Getz / Gilberto', None), ('Synchronicity', None), ('For Everyman', None), ('Back to Black', None), ('John Prine', None), ('Strictly Business', None), ('Love It to Death', None), ('How Will the Wolf Survive?', None), ('Here, My Dear', None), ('Z', None), ('Tumbleweed Connection', None), ('Live Through This', None), ('Metal Box', None), ('Document', None), ('Heaven Up Here', None), ('Hysteria', None), ('69 Love Songs', None), ('A Rush of Blood to the Head', None), ('Tunnel of Love', None), ('The Paul Butterfield Blues Band', None), ('The Score', None), ('Radio', None), ('I Want to See the Bright Lights Tonight', None), ('Faith', None), ('The Smiths', None), ('Proxima estacion: Esperanza', None), ('Armed Forces', None), ('Life After Death', None), ('Down Every Road', None), ('All Time Greatest Hits', None), ('Maggot Brain', None), ('Only Built 4 Cuban Linx', None), ('Voodoo', None), ('Guitar Town', None), ('Entertainment!', None), ('All the Young Dudes', None), ('Vitalogy', None), (\"That's the Way of the World\", None), (\"She's So Unusual\", None), ('New Day Rising', None), ('Destroyer', None), ('Tres hombres', None), ('Born Under a Bad Sign', None), ('Touch', None), ('Yankee Hotel Foxtrot', None), ('Oracular Spectacular', None), ('Give It Up', None), ('Boz Scaggs', None), ('White Blood Cells', None), ('The Stone Roses', None), ('Live in Cook County Jail', None), ('Aquemini', None)])\n"
     ]
    }
   ],
   "source": [
    "def find_by_name(album_name):\n",
    "    for album in album_info:\n",
    "        if album['album'] == album_name:\n",
    "            return album\n",
    "    return None"
   ]
  },
  {
   "cell_type": "code",
   "execution_count": 87,
   "metadata": {},
   "outputs": [
    {
     "name": "stdout",
     "output_type": "stream",
     "text": [
      "odict_keys(['Electronic,Stage & Screen', 'Jazz, Pop, Folk, World, & Country', 'Rock, Pop, Folk, World, & Country', 'Electronic, Rock', 'Pop, Folk, World, & Country', 'Electronic, Pop', 'Electronic, Rock, Pop', 'Rock, Blues, Pop', 'Rock, Folk, World, & Country', 'Rock, Funk / Soul', 'Rock, Latin, Funk / Soul', 'Electronic, Reggae', 'Jazz, Rock, Pop', 'Jazz, Rock, Funk / Soul, Pop, Folk, World, & Country', 'Rock, Funk / Soul, Pop', 'Reggae', 'Rock, Funk / Soul, Blues, Pop, Folk, World, & Country', 'Jazz', 'Hip Hop, Rock, Funk / Soul', 'Electronic, Hip Hop, Pop', 'Electronic, Hip Hop, Funk / Soul', 'Latin, Funk / Soul', 'Jazz, Funk / Soul', 'Funk / Soul, Pop', 'Hip Hop', 'Folk, World, & Country', 'Reggae,Pop,Folk, World, & Country,Stage & Screen', 'Rock, Funk / Soul, Folk, World, & Country', 'Jazz, Pop', 'Classical, Stage & Screen', 'Electronic, Funk / Soul', 'Rock, Funk / Soul, Blues', 'Hip Hop, Funk / Soul', 'Rock', 'Jazz, Rock, Blues, Folk, World, & Country', 'Funk / Soul,Folk, World, & Country', 'Electronic, Rock, Funk / Soul, Pop', 'Rock, Stage & Screen', 'Electronic, Rock, Funk / Soul, Stage & Screen', 'Electronic, Hip Hop, Funk / Soul, Pop', 'Electronic, Funk / Soul, Pop', 'Funk / Soul, Stage & Screen', 'Electronic, Rock, Funk / Soul, Blues, Pop', 'Blues', 'Electronic, Hip Hop, Reggae, Pop', 'Jazz, Rock', 'Hip Hop, Rock', 'Rock, Blues', 'Funk / Soul, Blues', 'Jazz, Rock, Funk / Soul, Folk, World, & Country', 'Rock, Reggae, Latin', 'Rock, Pop', 'Pop', 'Funk / Soul', 'Electronic', 'Rock, Latin', 'Rock, Reggae', 'Jazz, Rock, Funk / Soul, Blues'])\n"
     ]
    }
   ],
   "source": [
    "import matplotlib.pyplot as plt\n",
    "genres = []\n",
    "for dict in album_info:\n",
    "    genres.append(dict['genre'])\n",
    "for word in genres:\n",
    "    word.replace(\",\", \"\")\n",
    "\n",
    "genre_count = dict.fromkeys(set(genres))\n",
    "for genre in genre_count:\n",
    "    genre_count[genre] = genres.count(genre)\n",
    "print(genre_count.keys())\n",
    "\n"
   ]
  },
  {
   "cell_type": "code",
   "execution_count": 104,
   "metadata": {},
   "outputs": [
    {
     "data": {
      "text/plain": [
       "[]"
      ]
     },
     "execution_count": 104,
     "metadata": {},
     "output_type": "execute_result"
    }
   ],
   "source": [
    "def find_by_years(start, end):\n",
    "    return list(filter(lambda album: (start >= int(album['year']) and end <= int(album['year'])), album_info))\n",
    "find_by_years(1966, 1977)"
   ]
  },
  {
   "cell_type": "code",
   "execution_count": 59,
   "metadata": {},
   "outputs": [
    {
     "data": {
      "text/plain": [
       "([<matplotlib.axis.XTick at 0x297838efe80>,\n",
       "  <matplotlib.axis.XTick at 0x297838ef7b8>,\n",
       "  <matplotlib.axis.XTick at 0x29782387400>,\n",
       "  <matplotlib.axis.XTick at 0x29782521780>,\n",
       "  <matplotlib.axis.XTick at 0x297825211d0>,\n",
       "  <matplotlib.axis.XTick at 0x29782521ac8>,\n",
       "  <matplotlib.axis.XTick at 0x29782531160>],\n",
       " <a list of 7 Text xticklabel objects>)"
      ]
     },
     "execution_count": 59,
     "metadata": {},
     "output_type": "execute_result"
    },
    {
     "data": {
      "image/png": "[encoded data removed]",
      "text/plain": [
       "<Figure size 432x288 with 1 Axes>"
      ]
     },
     "metadata": {
      "needs_background": "light"
     },
     "output_type": "display_data"
    }
   ],
   "source": [
    "import matplotlib.pyplot as plt\n",
    "years = []\n",
    "decades = []\n",
    "for dict in album_info: \n",
    "    years.append(dict['year'])\n",
    "for year in years:\n",
    "    decades.append(int(year[0:3]+'0'))\n",
    "decade_count = dict.fromkeys(set(decades))\n",
    "for decade in decade_count:\n",
    "    decade_count[decade] = decades.count(decade)\n",
    "plt.bar(range(len(decade_count)), list(decade_count.values()))\n",
    "plt.xticks(range(len(decade_count)), sorted(list(decade_count.keys())))\n"
   ]
  },
  {
   "cell_type": "code",
   "execution_count": 103,
   "metadata": {},
   "outputs": [
    {
     "data": {
      "image/png": "[encoded data removed]",
      "text/plain": [
       "<Figure size 432x288 with 1 Axes>"
      ]
     },
     "metadata": {
      "needs_background": "light"
     },
     "output_type": "display_data"
    }
   ],
   "source": [
    "import matplotlib.pyplot as plt\n",
    "years = []\n",
    "decades = []\n",
    "for dict in album_info: \n",
    "    years.append(dict['year'])\n",
    "for year in years:\n",
    "    decades.append(int(year[0:3]+'0'))\n",
    "plt.hist(decades)\n",
    "plt.show()"
   ]
  },
  {
   "cell_type": "code",
   "execution_count": 95,
   "metadata": {},
   "outputs": [
    {
     "name": "stdout",
     "output_type": "stream",
     "text": [
      "['The']\n"
     ]
    }
   ],
   "source": [
    "words = []\n",
    "most_common_word = []\n",
    "for dict in album_info:\n",
    "    words.append(dict['album'] #could have done: words += dict['album'] #would have allowed to skip next twob step\n",
    "giant_word = \" \".join(words) \n",
    "word_list = giant_word.split(\" \")\n",
    "unique_words = dict.fromkeys(set(word_list))\n",
    "for word in unique_words:\n",
    "    unique_words[word] = word_list.count(word)\n",
    "for word in unique_words:\n",
    "    if unique_words[word] == max(unique_words.values()):\n",
    "        most_common_word.append(word)\n",
    "print(most_common_word)\n"
   ]
  },
  {
   "cell_type": "code",
   "execution_count": 93,
   "metadata": {},
   "outputs": [],
   "source": [
    "def find_by_year(year):\n",
    "    album_year = []\n",
    "    for\n",
    "    if year in album_info[0]['year']: \n",
    "        album_year.append(album_info[0]['album'])\n",
    "    return album_year\n",
    "            "
   ]
  },
  {
   "cell_type": "code",
   "execution_count": 127,
   "metadata": {},
   "outputs": [],
   "source": [
    "def most_albums():\n",
    "    artists = []\n",
    "    mosts = []\n",
    "    for dict in album_info:\n",
    "        artists.append(dict['artist'])\n",
    "    unique_artists = dict.fromkeys(set(artists))\n",
    "    for artist in unique_artists:\n",
    "        unique_artists[artist] = artists.count(artist)\n",
    "    for artist in unique_artists:\n",
    "        if unique_artists[artist] == max(unique_artists.values()):\n",
    "            mosts.append(artist)\n",
    "    return mosts\n",
    "   "
   ]
  },
  {
   "cell_type": "code",
   "execution_count": 129,
   "metadata": {},
   "outputs": [
    {
     "data": {
      "text/plain": [
       "['Bob Dylan', 'The Beatles', 'The Rolling Stones']"
      ]
     },
     "execution_count": 129,
     "metadata": {},
     "output_type": "execute_result"
    }
   ],
   "source": [
    "most_albums()\n"
   ]
  },
  {
   "cell_type": "markdown",
   "metadata": {},
   "source": [
    "#album_names = dict.keys(album_info[0])\n",
    "#print(album_names)\n",
    "#album_values = dict.values(album_info[1])\n",
    "#print(album_names)\n",
    "#print(album_values)\n",
    "def \n",
    "    name_dict = {}\n",
    "    for record in range(0,len(album_info)):\n",
    "        medium = {album_info[record]['album']:{'year':album_info[record]['year'], 'number':album_info[record]['number'], \n",
    "                  'genre':album_info[record]['genre'], 'subgenre':album_info[record]['subgenre'], \n",
    "                  'artist':album_info[record]['artist']}}\n",
    "        name_dict.update(medium)\n",
    "    print(name_dict[album])\n",
    "    \n"
   ]
  },
  {
   "cell_type": "markdown",
   "metadata": {},
   "source": [
    "## Next Steps"
   ]
  },
  {
   "cell_type": "markdown",
   "metadata": {},
   "source": [
    "Now that we have our functions querying our Album data, let's compare that data with the top 500 songs. We have another file -- a text file! -- that contains the data we need for the top 500 songs. Reading a text file is pretty similar to reading a csv file, however, it tends to need a bit more massaging to get your data formatted the way you want it.\n",
    "\n",
    "```python\n",
    "    # open the text file in read\n",
    "    text_file = open('top-500-songs.txt', 'r')\n",
    "    # read each line of the text file\n",
    "    # here is where you can print out the lines to your terminal and get an idea \n",
    "    # for how you might think about re-formatting the data\n",
    "    lines = text_file.readlines()\n",
    "\n",
    "    print(lines)\n",
    "    # the output will look something like this:\n",
    "['1\\tLike a Rolling Stone\\tBob Dylan\\t1965\\n', '2\\tSatisfaction\\tThe Rolling Stones\\t1965\\n', '3\\tImagine\\tJohn Lennon\\t1971\\n', \"4\\tWhat's Going On\\tMarvin Gaye\\t1971\\n\", '5\\tRespect\\tAretha Franklin\\t1967\\n', '6\\tGood Vibrations\\tThe Beach Boys\\t1966\\n', '7\\tJohnny B. Goode\\tChuck Berry\\t1958\\n', '8\\tHey Jude\\tThe Beatles\\t1968\\n', ...]\n",
    "```\n",
    "\n",
    "It looks like `\\t` is how the text file is separating each element on a line. So, we need a function that can separate a string into a list. Then we can tell this function on what to split our string (i.e. `\\t`). From there we will have a list of lists that are formatted like the following:\n",
    "```python\n",
    "[\"RANK\", \"NAME\", \"ARTIST\", \"YEAR\"]\n",
    "```\n",
    "We need to use our knowledge of iterating to go through each of these elements and turn them into dictionaries with the keys, \"rank\", \"name\", \"artist\", \"year\", pointing to the appropriate values. So, for song number 1, we want it to look like:\n",
    "```python\n",
    "{'rank': 1, 'name': \"Like a Rolling Stone\", 'artist'\"Bob Dylan\": , 'year': 1965}\n",
    "```\n",
    "\n",
    "Once we have a list of songs that are formatted like the above, we can move on to figuring out which songs are from the top albums and which albums and artists have the most 'top songs'."
   ]
  },
  {
   "cell_type": "markdown",
   "metadata": {},
   "source": [
    "### Working with the top 500 songs"
   ]
  },
  {
   "cell_type": "markdown",
   "metadata": {},
   "source": [
    "If we can't already re-use our searching functions (i.e. Find by name, Find by rank, Find by year, Find by years, Find by ranks), all functions (i.e. all titles, all artists), and questions-to-answer functions (i.e. Artists with the most albums (or songs), Most popular word, Histogram by decade, Histogram by genre) with the song data we just formatted, then refactor these functions so that they can be used with either set of data. This is a good practice for ensuring that our code is as reusable and modular as possible, which is important when writing code for any project, especially when it comes time to scale a project. Things are easier to read, and there is less code to worry about (and more importantly there is less code to debug when something goes wrong).\n",
    "\n",
    "Once we have our functions working for both sets of data, we can start writing new functions!\n",
    "\n",
    "Luckily for us, this next dataset is already made for us. We were curious to find out which songs on the top 500 songs overlapped with the top albums and vice versa. So, we created a data set that is a list of dictionaries in JSON format. Each dictionary contains the name of the artist, the album, and the tracks (songs) on that given album. We can use this data to check which songs on the top 500 list are featured on the albums on the top albums list.\n",
    "\n",
    "To load our JSON file we will write:\n",
    "\n",
    "```python\n",
    "import json\n",
    "\n",
    "file = open('track_data.json', 'r')\n",
    "json_data = json.load(file)\n",
    "\n",
    "print(json_data)\n",
    "# output will look like this:\n",
    "[{'artist': 'The Beatles', 'album': \"Sgt. Pepper's Lonely Hearts Club Band\", 'tracks': [\"Sgt. Pepper's Lonely Hearts Club Band - Remix\", 'With A Little Help From My Friends - Remix', 'Lucy In The Sky With Diamonds - Remix', 'Getting Better - Remix', 'Fixing A Hole - Remix', \"She's Leaving Home - Remix\", 'Being For The Benefit Of Mr. Kite! - Remix', 'Within You Without You - Remix', \"When I'm Sixty-Four - Remix\", 'Lovely Rita - Remix', 'Good Morning Good Morning - Remix', \"Sgt. Pepper's Lonely Hearts Club Band (Reprise) - Remix\", 'A Day In The Life - Remix', \"Sgt. Pepper's Lonely Hearts Club Band - Take 9 And Speech\", 'With A Little Help From My Friends - Take 1 / False Start And Take 2 / Instrumental', 'Lucy In The Sky With Diamonds - Take 1', 'Getting Better - Take 1 / Instrumental And Speech At The End', 'Fixing A Hole - Speech And Take 3', \"She's Leaving Home - Take 1 / Instrumental\", 'Being For The Benefit Of Mr. Kite! - Take 4', 'Within You Without You - Take 1 / Indian Instruments', \"When I'm Sixty-Four - Take 2\", 'Lovely Rita - Speech And Take 9', 'Good Morning Good Morning - Take 8', \"Sgt. Pepper's Lonely Hearts Club Band (Reprise) - Speech And Take 8\", 'A Day In The Life - Take 1 With Hums', 'Strawberry Fields Forever - Take 7', 'Strawberry Fields Forever - Take 26', 'Strawberry Fields Forever - Stereo Mix 2015', 'Penny Lane - Take 6 / Instrumental', 'Penny Lane - Stereo Mix 2017']}, {'artist': 'The Beach Boys', 'album': 'Pet Sounds', 'tracks': [\"Wouldn't It Be Nice - Digitally Remastered 96\", 'You Still Believe In Me - Digitally Remastered 96', \"That's Not Me - 1996 Digital Remaster\", \"Don't Talk (Put Your Head On My Shoulder) - 1996 Digital Remaster\", \"I'm Waiting For The Day - Digitally Remastered 96\", \"Let's Go Away For Awhile - Digitally Remastered 96\", 'Sloop John B - 1996 - Remaster', 'God Only Knows - 1997 - Remaster', \"I Know There's An Answer - Digitally Remastered 96\", 'Here Today - Digitally Remastered 96', \"I Just Wasn't Made For These Times - Digitally Remastered 96\", 'Pet Sounds - Digitally Remastered 96', 'Caroline, No - 1996 Digital Remaster', 'Hang On To Your Ego', \"Wouldn't It Be Nice - 2000 - Remaster\", 'You Still Believe In Me - 1996 Digital Remaster', \"That's Not Me - 1996 Digital Remaster\", \"Don't Talk (Put Your Head On My Shoulder) - 1996 Digital Remaster\", \"I'm Waiting For The Day - 1996 Digital Remaster\", \"Let's Go Away For Awhile - 1996 Digital Remaster\", 'Sloop John B - 1996 Digital Remaster', 'God Only Knows - 1996 Digital Remaster', \"I Know There's An Answer - 1996 Digital Remaster\", 'Here Today - 1996 Digital Remaster', \"I Just Wasn't Made For These Times - 1996 Digital Remaster\", 'Pet Sounds - 1996 Digital Remaster', 'Caroline, No - 1996 Digital Remaster']}, {'artist': 'The Beatles', 'album': 'Revolver', 'tracks': ['Taxman - Remastered', 'Eleanor Rigby - Remastered', \"I'm Only Sleeping - Remastered\", 'Love You To - Remastered', 'Here, There And Everywhere - Remastered', 'Yellow Submarine - Remastered', 'She Said She Said - Remastered', 'Good Day Sunshine - Remastered', 'And Your Bird Can Sing - Remastered', 'For No One - Remastered', 'Doctor Robert - Remastered', 'I Want To Tell You - Remastered', 'Got To Get You Into My Life - Remastered', 'Tomorrow Never Knows - Remastered']}, {'artist': 'Bob Dylan', 'album': 'Highway 61 Revisited', 'tracks': ['Like a Rolling Stone', 'Tombstone Blues', 'It Takes a Lot to Laugh, It Takes a Train to Cry', 'From a Buick 6', 'Ballad of a Thin Man', 'Queen Jane Approximately', 'Highway 61 Revisited', \"Just Like Tom Thumb's Blues\", 'Desolation Row']}, ...]\n",
    "```"
   ]
  },
  {
   "cell_type": "markdown",
   "metadata": {},
   "source": [
    "### Define the following functions:\n",
    "\n",
    "**albumWithMostTopSongs** - returns the name of the artist and album that has that most songs featured on the top 500 songs list\n",
    "\n",
    "**albumsWithTopSongs** - returns a list with the name of only the albums that have tracks featured on the list of top 500 songs\n",
    "\n",
    "**songsThatAreOnTopAlbums** - returns a list with the name of only the songs featured on the list of top albums\n",
    "\n",
    "**top10AlbumsByTopSongs** - returns a histogram with the 10 albums that have the most songs that appear in the top songs list. The album names should point to the number of songs that appear on the top 500 songs list.\n",
    "\n",
    "**topOverallArtist** - Artist featured with the most songs and albums on the two lists. This means that if Brittany Spears had 3 of her albums featured on the top albums listed and 10 of her songs featured on the top songs, she would have a total of 13. The artist with the highest aggregate score would be the top overall artist."
   ]
  }
 ],
 "metadata": {
  "kernelspec": {
   "display_name": "Python 3",
   "language": "python",
   "name": "python3"
  },
  "language_info": {
   "codemirror_mode": {
    "name": "ipython",
    "version": 3
   },
   "file_extension": ".py",
   "mimetype": "text/x-python",
   "name": "python",
   "nbconvert_exporter": "python",
   "pygments_lexer": "ipython3",
   "version": "3.7.3"
  }
 },
 "nbformat": 4,
 "nbformat_minor": 2
}
